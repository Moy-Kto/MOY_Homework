{
 "cells": [
  {
   "cell_type": "code",
   "execution_count": null,
   "metadata": {},
   "outputs": [
    {
     "name": "stdout",
     "output_type": "stream",
     "text": [
      "Select one of the three numbers(1-2-3), if you do not select this selection, you must restart the program\n"
     ]
    }
   ],
   "source": [
    "print (\"Select one of the three numbers(1-2-3), if you do not select this selection, you must restart the program\")\n",
    "\n",
    "a=int(input(\"Enter the number:\"))\n",
    "\n",
    "if a == 1:\n",
    "    print(\"You will calculate the hypotenuse of triangle\")\n",
    "    b=int(input(\"Enter the number:\"))\n",
    "    c=int(input(\"Enter the number:\"))\n",
    "    d=((b**2 + c**2)**0.5)\n",
    "    print (\"Your hypotenus is:\",d,)\n",
    "    \n",
    "elif a == 2:\n",
    "    print(\"enter a number and see the magic\") \n",
    "    i=0\n",
    "    e=int(input(\"Enter a number:\"))\n",
    "    while i < e:\n",
    "        i += 1\n",
    "        print (\"your e is:\",i,)\n",
    "        \n",
    "elif a == 3:\n",
    "    print(\"You will calculate the arithmetic mean of the 6 numbers you entered\")\n",
    "    x1=int(input(\"Enter the number:\"))\n",
    "    x2=int(input(\"Enter the number:\"))\n",
    "    x3=int(input(\"Enter the number:\"))\n",
    "    x4=int(input(\"Enter the number:\"))\n",
    "    x5=int(input(\"Enter the number:\"))\n",
    "    x6=int(input(\"Enter the number:\"))\n",
    "    arithmetic = (x1+x2+x3+x4+x5+x6)/6\n",
    "    print (\"Your arithmetic is:\",arithmetic,)\n",
    "    \n",
    "else:\n",
    "    print (\"Please Restart Program\")"
   ]
  },
  {
   "cell_type": "code",
   "execution_count": null,
   "metadata": {},
   "outputs": [],
   "source": []
  },
  {
   "cell_type": "code",
   "execution_count": null,
   "metadata": {},
   "outputs": [],
   "source": []
  }
 ],
 "metadata": {
  "kernelspec": {
   "display_name": "Python 3",
   "language": "python",
   "name": "python3"
  },
  "language_info": {
   "codemirror_mode": {
    "name": "ipython",
    "version": 3
   },
   "file_extension": ".py",
   "mimetype": "text/x-python",
   "name": "python",
   "nbconvert_exporter": "python",
   "pygments_lexer": "ipython3",
   "version": "3.6.7"
  }
 },
 "nbformat": 4,
 "nbformat_minor": 2
}
