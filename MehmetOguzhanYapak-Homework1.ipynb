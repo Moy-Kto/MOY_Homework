{
 "cells": [
  {
   "cell_type": "code",
   "execution_count": 10,
   "metadata": {},
   "outputs": [
    {
     "name": "stdout",
     "output_type": "stream",
     "text": [
      "a*(x**2) + b*x + c\n",
      "enter the number a:1\n",
      "enter the number b:10\n",
      "enter the number c:2\n",
      "Your Discriminant is: 92\n",
      "Your x1 is: -0.2041684766872809\n",
      "Your x2 is: -9.79583152331272\n"
     ]
    }
   ],
   "source": [
    "print (\"a*(x**2) + b*x + c\")\n",
    "\n",
    "a=int(input(\"enter the number a:\"))\n",
    "b=int(input(\"enter the number b:\"))\n",
    "c=int(input(\"enter the number c:\"))\n",
    "\n",
    "discriminant= b**2 - (4*a*c) \n",
    "\n",
    "x1=(-b + ((b**2 - (4*a*c))**0.5))/(2*a)\n",
    "x2=(-b - ((b**2 - (4*a*c))**0.5))/(2*a)\n",
    "\n",
    "print(\"Your Discriminant is:\",discriminant,)\n",
    "print(\"Your x1 is:\",x1,)       \n",
    "print(\"Your x2 is:\",x2,)    "
   ]
  },
  {
   "cell_type": "code",
   "execution_count": null,
   "metadata": {},
   "outputs": [],
   "source": []
  },
  {
   "cell_type": "code",
   "execution_count": null,
   "metadata": {},
   "outputs": [],
   "source": []
  }
 ],
 "metadata": {
  "kernelspec": {
   "display_name": "Python 3",
   "language": "python",
   "name": "python3"
  },
  "language_info": {
   "codemirror_mode": {
    "name": "ipython",
    "version": 3
   },
   "file_extension": ".py",
   "mimetype": "text/x-python",
   "name": "python",
   "nbconvert_exporter": "python",
   "pygments_lexer": "ipython3",
   "version": "3.6.7"
  }
 },
 "nbformat": 4,
 "nbformat_minor": 2
}
